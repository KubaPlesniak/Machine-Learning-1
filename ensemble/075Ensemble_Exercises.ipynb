{
 "cells": [
  {
   "cell_type": "markdown",
   "metadata": {},
   "source": [
    "# Ensemble methods. Exercises\n",
    "\n",
    "\n",
    "In this section we have only two exercise:\n",
    "\n",
    "1. Find the best three classifier in the stacking method using the classifiers from scikit-learn package.\n",
    "\n",
    "2. Build arcing arc-x4 method. "
   ]
  },
  {
   "cell_type": "code",
   "execution_count": 78,
   "metadata": {},
   "outputs": [],
   "source": [
    "%store -r data_set\n",
    "%store -r labels\n",
    "%store -r test_data_set\n",
    "%store -r test_labels\n",
    "%store -r unique_labels"
   ]
  },
  {
   "cell_type": "markdown",
   "metadata": {},
   "source": [
    "## Exercise 1: Find the best three classifier in the stacking method\n",
    "\n",
    "Please use the following classifiers:\n",
    "\n",
    "* Linear regression,\n",
    "* Nearest Neighbors,\n",
    "* Linear SVM,\n",
    "* Decision Tree,\n",
    "* Naive Bayes,\n",
    "* QDA."
   ]
  },
  {
   "cell_type": "code",
   "execution_count": 79,
   "metadata": {},
   "outputs": [],
   "source": [
    "import numpy as np\n",
    "from sklearn.metrics import accuracy_score\n",
    "\n",
    "from sklearn.linear_model import LinearRegression\n",
    "from sklearn.neighbors import KNeighborsClassifier\n",
    "from sklearn.svm import SVC\n",
    "from sklearn.tree import DecisionTreeClassifier\n",
    "from sklearn.naive_bayes import GaussianNB\n",
    "from sklearn.discriminant_analysis import QuadraticDiscriminantAnalysis"
   ]
  },
  {
   "cell_type": "code",
   "execution_count": 80,
   "metadata": {},
   "outputs": [],
   "source": [
    "def build_classifiers():\n",
    "    classifiers = [\n",
    "        LinearRegression(),\n",
    "        KNeighborsClassifier(),\n",
    "        SVC(),\n",
    "        DecisionTreeClassifier(),\n",
    "        GaussianNB(),\n",
    "        QuadraticDiscriminantAnalysis()\n",
    "    ]\n",
    "    return classifiers"
   ]
  },
  {
   "cell_type": "code",
   "execution_count": 81,
   "metadata": {},
   "outputs": [],
   "source": [
    "def build_stacked_classifier(classifiers):\n",
    "    output = []\n",
    "    for classifier in classifiers:\n",
    "        classifier.fit(data_set, labels)\n",
    "        output.append(classifier.predict(data_set))\n",
    "    output = np.array(output).reshape((130,3))\n",
    "    \n",
    "    # stacked classifier part:\n",
    "    stacked_classifier = DecisionTreeClassifier()\n",
    "    stacked_classifier.fit(output.reshape((130,3)), labels.reshape((130,)))\n",
    "    test_set = []\n",
    "    for classifier in classifiers:\n",
    "        test_set.append(classifier.predict(test_data_set))\n",
    "    test_set = np.array(test_set).reshape((len(test_set[0]),3))\n",
    "    predicted = stacked_classifier.predict(test_set)\n",
    "    return predicted"
   ]
  },
  {
   "cell_type": "code",
   "execution_count": 82,
   "metadata": {},
   "outputs": [
    {
     "name": "stdout",
     "output_type": "stream",
     "text": [
      "   Accuracy            Classifier 1            Classifier 2  \\\n",
      "0      0.90    KNeighborsClassifier  DecisionTreeClassifier   \n",
      "1      0.85    KNeighborsClassifier                     SVC   \n",
      "2      0.85    KNeighborsClassifier                     SVC   \n",
      "3      0.85    KNeighborsClassifier                     SVC   \n",
      "4      0.85    KNeighborsClassifier              GaussianNB   \n",
      "5      0.85                     SVC  DecisionTreeClassifier   \n",
      "6      0.85  DecisionTreeClassifier              GaussianNB   \n",
      "7      0.75        LinearRegression    KNeighborsClassifier   \n",
      "8      0.75        LinearRegression  DecisionTreeClassifier   \n",
      "9      0.75                     SVC              GaussianNB   \n",
      "\n",
      "                    Classifier 3  \n",
      "0  QuadraticDiscriminantAnalysis  \n",
      "1         DecisionTreeClassifier  \n",
      "2                     GaussianNB  \n",
      "3  QuadraticDiscriminantAnalysis  \n",
      "4  QuadraticDiscriminantAnalysis  \n",
      "5  QuadraticDiscriminantAnalysis  \n",
      "6  QuadraticDiscriminantAnalysis  \n",
      "7  QuadraticDiscriminantAnalysis  \n",
      "8  QuadraticDiscriminantAnalysis  \n",
      "9  QuadraticDiscriminantAnalysis  \n"
     ]
    }
   ],
   "source": [
    "classifiers = build_classifiers()\n",
    "accuracies = []\n",
    "seen_permutations = set()\n",
    "\n",
    "from itertools import permutations\n",
    "from copy import deepcopy\n",
    "import pandas as pd\n",
    "\n",
    "for selected_classifiers in permutations(classifiers, 3):\n",
    "    three_classifiers = selected_classifiers[:3]\n",
    "\n",
    "    unique_permutation = tuple(sorted([str(classifier) for classifier in three_classifiers]))\n",
    "    if unique_permutation not in seen_permutations:\n",
    "        seen_permutations.add(unique_permutation)\n",
    "        predicted = build_stacked_classifier(three_classifiers)\n",
    "        accuracy = accuracy_score(test_labels, predicted)\n",
    "        accuracies.append((accuracy, str(type(three_classifiers[0]).__name__), str(type(three_classifiers[1]).__name__), str(type(three_classifiers[2]).__name__)))\n",
    "\n",
    "sorted_accuracies = sorted(accuracies, key=lambda x: x[0], reverse=True)\n",
    "df = pd.DataFrame(sorted_accuracies,\n",
    "                  columns=['Accuracy', 'Classifier 1', 'Classifier 2', 'Classifier 3'])\n",
    "\n",
    "# Display the top 10 results\n",
    "print(df.head(10))"
   ]
  },
  {
   "cell_type": "markdown",
   "metadata": {},
   "source": [
    "## Exercise 2: \n",
    "\n",
    "Use the boosting method and change the code to fullfilt the following requirements:\n",
    "\n",
    "* the weights should be calculated as:\n",
    "$w_{n}^{(t+1)}=\\frac{1+ I(y_{n}\\neq h_{t}(x_{n})}{\\sum_{i=1}^{N}1+I(y_{n}\\neq h_{t}(x_{n})}$,\n",
    "* the prediction is done with a voting method."
   ]
  },
  {
   "cell_type": "code",
   "execution_count": 84,
   "metadata": {},
   "outputs": [],
   "source": [
    "import numpy as np\n",
    "from sklearn.tree import DecisionTreeClassifier\n",
    "\n",
    "# prepare data set\n",
    "\n",
    "def generate_data(sample_number, feature_number, label_number):\n",
    "    data_set = np.random.random_sample((sample_number, feature_number))\n",
    "    labels = np.random.choice(label_number, sample_number)\n",
    "    return data_set, labels\n",
    "\n",
    "labels = 2\n",
    "dimension = 2\n",
    "test_set_size = 1000\n",
    "train_set_size = 5000\n",
    "train_set, train_labels = generate_data(train_set_size, dimension, labels)\n",
    "test_set, test_labels = generate_data(test_set_size, dimension, labels)\n",
    "\n",
    "# init weights\n",
    "number_of_iterations = 10\n",
    "weights = np.ones((test_set_size,)) / test_set_size\n",
    "\n",
    "\n",
    "def train_model(classifier, weights):\n",
    "    return classifier.fit(X=test_set, y=test_labels, sample_weight=weights)\n",
    "\n",
    "def calculate_error(model):\n",
    "    predicted = model.predict(test_set)\n",
    "    I=calculate_accuracy_vector(predicted, test_labels)\n",
    "    Z=np.sum(I)\n",
    "    return (1+Z)/1.0"
   ]
  },
  {
   "cell_type": "markdown",
   "metadata": {},
   "source": [
    "Fill the two functions below:"
   ]
  },
  {
   "cell_type": "code",
   "execution_count": 102,
   "metadata": {},
   "outputs": [],
   "source": [
    "def set_new_weights(model):\n",
    "    predicted = model.predict(test_set)\n",
    "    weights[:] = (1 + (predicted != test_labels)) / np.sum(1 + (predicted != test_labels))\n",
    "    return weights"
   ]
  },
  {
   "cell_type": "markdown",
   "metadata": {},
   "source": [
    "Train the classifier with the code below:"
   ]
  },
  {
   "cell_type": "code",
   "execution_count": 103,
   "metadata": {},
   "outputs": [
    {
     "name": "stdout",
     "output_type": "stream",
     "text": [
      "[0.00131234 0.00065617 0.00065617 0.00131234 0.00065617 0.00131234\n",
      " 0.00065617 0.00065617 0.00131234 0.00065617 0.00065617 0.00131234\n",
      " 0.00131234 0.00131234 0.00131234 0.00065617 0.00131234 0.00065617\n",
      " 0.00065617 0.00131234 0.00131234 0.00065617 0.00065617 0.00065617\n",
      " 0.00065617 0.00065617 0.00065617 0.00065617 0.00131234 0.00131234\n",
      " 0.00065617 0.00131234 0.00131234 0.00131234 0.00065617 0.00131234\n",
      " 0.00131234 0.00065617 0.00131234 0.00065617 0.00131234 0.00131234\n",
      " 0.00065617 0.00131234 0.00065617 0.00131234 0.00131234 0.00065617\n",
      " 0.00065617 0.00131234 0.00065617 0.00065617 0.00065617 0.00065617\n",
      " 0.00065617 0.00131234 0.00065617 0.00131234 0.00131234 0.00131234\n",
      " 0.00131234 0.00065617 0.00065617 0.00065617 0.00065617 0.00065617\n",
      " 0.00065617 0.00131234 0.00131234 0.00131234 0.00131234 0.00065617\n",
      " 0.00131234 0.00065617 0.00131234 0.00131234 0.00131234 0.00131234\n",
      " 0.00131234 0.00131234 0.00131234 0.00065617 0.00065617 0.00065617\n",
      " 0.00131234 0.00131234 0.00131234 0.00131234 0.00065617 0.00131234\n",
      " 0.00065617 0.00065617 0.00131234 0.00131234 0.00131234 0.00131234\n",
      " 0.00131234 0.00131234 0.00131234 0.00065617 0.00131234 0.00065617\n",
      " 0.00065617 0.00131234 0.00065617 0.00131234 0.00065617 0.00065617\n",
      " 0.00131234 0.00131234 0.00131234 0.00065617 0.00131234 0.00131234\n",
      " 0.00131234 0.00065617 0.00131234 0.00131234 0.00131234 0.00131234\n",
      " 0.00065617 0.00131234 0.00131234 0.00131234 0.00131234 0.00131234\n",
      " 0.00131234 0.00131234 0.00131234 0.00131234 0.00131234 0.00131234\n",
      " 0.00131234 0.00065617 0.00131234 0.00131234 0.00065617 0.00131234\n",
      " 0.00065617 0.00065617 0.00065617 0.00131234 0.00065617 0.00065617\n",
      " 0.00131234 0.00065617 0.00065617 0.00131234 0.00131234 0.00065617\n",
      " 0.00131234 0.00131234 0.00131234 0.00131234 0.00131234 0.00065617\n",
      " 0.00065617 0.00065617 0.00131234 0.00065617 0.00065617 0.00131234\n",
      " 0.00131234 0.00131234 0.00131234 0.00131234 0.00131234 0.00131234\n",
      " 0.00131234 0.00065617 0.00131234 0.00065617 0.00065617 0.00131234\n",
      " 0.00131234 0.00131234 0.00131234 0.00065617 0.00131234 0.00131234\n",
      " 0.00131234 0.00131234 0.00065617 0.00131234 0.00131234 0.00065617\n",
      " 0.00065617 0.00131234 0.00131234 0.00065617 0.00065617 0.00131234\n",
      " 0.00065617 0.00131234 0.00065617 0.00131234 0.00131234 0.00065617\n",
      " 0.00131234 0.00065617 0.00065617 0.00065617 0.00065617 0.00065617\n",
      " 0.00131234 0.00131234 0.00131234 0.00065617 0.00131234 0.00131234\n",
      " 0.00131234 0.00131234 0.00065617 0.00131234 0.00065617 0.00065617\n",
      " 0.00065617 0.00131234 0.00065617 0.00065617 0.00065617 0.00065617\n",
      " 0.00065617 0.00131234 0.00065617 0.00131234 0.00131234 0.00131234\n",
      " 0.00065617 0.00065617 0.00131234 0.00065617 0.00065617 0.00065617\n",
      " 0.00131234 0.00065617 0.00131234 0.00131234 0.00065617 0.00065617\n",
      " 0.00131234 0.00131234 0.00131234 0.00065617 0.00065617 0.00065617\n",
      " 0.00131234 0.00131234 0.00131234 0.00131234 0.00131234 0.00131234\n",
      " 0.00131234 0.00131234 0.00131234 0.00131234 0.00065617 0.00131234\n",
      " 0.00131234 0.00131234 0.00065617 0.00065617 0.00065617 0.00065617\n",
      " 0.00065617 0.00065617 0.00065617 0.00131234 0.00065617 0.00131234\n",
      " 0.00065617 0.00065617 0.00065617 0.00131234 0.00131234 0.00131234\n",
      " 0.00131234 0.00131234 0.00065617 0.00065617 0.00065617 0.00065617\n",
      " 0.00065617 0.00131234 0.00065617 0.00131234 0.00065617 0.00065617\n",
      " 0.00065617 0.00065617 0.00065617 0.00065617 0.00065617 0.00065617\n",
      " 0.00131234 0.00131234 0.00065617 0.00131234 0.00065617 0.00065617\n",
      " 0.00131234 0.00131234 0.00065617 0.00065617 0.00065617 0.00131234\n",
      " 0.00131234 0.00065617 0.00065617 0.00131234 0.00131234 0.00131234\n",
      " 0.00131234 0.00065617 0.00131234 0.00131234 0.00131234 0.00131234\n",
      " 0.00065617 0.00065617 0.00131234 0.00131234 0.00065617 0.00065617\n",
      " 0.00065617 0.00065617 0.00131234 0.00065617 0.00131234 0.00065617\n",
      " 0.00065617 0.00131234 0.00131234 0.00065617 0.00131234 0.00131234\n",
      " 0.00065617 0.00131234 0.00131234 0.00131234 0.00065617 0.00065617\n",
      " 0.00131234 0.00065617 0.00065617 0.00131234 0.00065617 0.00065617\n",
      " 0.00065617 0.00065617 0.00065617 0.00065617 0.00065617 0.00131234\n",
      " 0.00131234 0.00131234 0.00131234 0.00131234 0.00065617 0.00131234\n",
      " 0.00065617 0.00131234 0.00131234 0.00131234 0.00065617 0.00065617\n",
      " 0.00065617 0.00065617 0.00065617 0.00065617 0.00131234 0.00065617\n",
      " 0.00131234 0.00065617 0.00065617 0.00065617 0.00065617 0.00131234\n",
      " 0.00065617 0.00131234 0.00131234 0.00065617 0.00065617 0.00131234\n",
      " 0.00131234 0.00131234 0.00065617 0.00065617 0.00131234 0.00131234\n",
      " 0.00131234 0.00131234 0.00065617 0.00065617 0.00131234 0.00065617\n",
      " 0.00131234 0.00065617 0.00065617 0.00065617 0.00065617 0.00065617\n",
      " 0.00065617 0.00065617 0.00065617 0.00131234 0.00131234 0.00131234\n",
      " 0.00065617 0.00131234 0.00065617 0.00065617 0.00131234 0.00131234\n",
      " 0.00131234 0.00065617 0.00065617 0.00131234 0.00131234 0.00065617\n",
      " 0.00131234 0.00131234 0.00065617 0.00131234 0.00131234 0.00065617\n",
      " 0.00065617 0.00131234 0.00065617 0.00131234 0.00065617 0.00065617\n",
      " 0.00065617 0.00065617 0.00065617 0.00065617 0.00065617 0.00065617\n",
      " 0.00131234 0.00131234 0.00065617 0.00065617 0.00131234 0.00065617\n",
      " 0.00131234 0.00131234 0.00131234 0.00131234 0.00131234 0.00065617\n",
      " 0.00131234 0.00131234 0.00131234 0.00065617 0.00131234 0.00131234\n",
      " 0.00065617 0.00131234 0.00065617 0.00065617 0.00065617 0.00131234\n",
      " 0.00065617 0.00131234 0.00065617 0.00065617 0.00065617 0.00065617\n",
      " 0.00065617 0.00065617 0.00131234 0.00131234 0.00131234 0.00065617\n",
      " 0.00065617 0.00131234 0.00131234 0.00065617 0.00065617 0.00131234\n",
      " 0.00131234 0.00131234 0.00131234 0.00065617 0.00131234 0.00065617\n",
      " 0.00131234 0.00065617 0.00131234 0.00065617 0.00065617 0.00065617\n",
      " 0.00065617 0.00131234 0.00131234 0.00131234 0.00065617 0.00131234\n",
      " 0.00131234 0.00065617 0.00065617 0.00065617 0.00131234 0.00131234\n",
      " 0.00065617 0.00131234 0.00131234 0.00131234 0.00131234 0.00065617\n",
      " 0.00131234 0.00131234 0.00131234 0.00131234 0.00131234 0.00131234\n",
      " 0.00065617 0.00065617 0.00131234 0.00131234 0.00065617 0.00131234\n",
      " 0.00131234 0.00131234 0.00131234 0.00131234 0.00065617 0.00065617\n",
      " 0.00065617 0.00065617 0.00131234 0.00131234 0.00131234 0.00131234\n",
      " 0.00131234 0.00131234 0.00131234 0.00131234 0.00065617 0.00131234\n",
      " 0.00065617 0.00131234 0.00065617 0.00131234 0.00065617 0.00065617\n",
      " 0.00131234 0.00065617 0.00065617 0.00065617 0.00131234 0.00065617\n",
      " 0.00131234 0.00065617 0.00065617 0.00131234 0.00131234 0.00131234\n",
      " 0.00131234 0.00065617 0.00131234 0.00131234 0.00131234 0.00131234\n",
      " 0.00065617 0.00065617 0.00131234 0.00065617 0.00131234 0.00131234\n",
      " 0.00131234 0.00131234 0.00131234 0.00065617 0.00065617 0.00131234\n",
      " 0.00065617 0.00065617 0.00065617 0.00065617 0.00131234 0.00065617\n",
      " 0.00131234 0.00065617 0.00065617 0.00065617 0.00131234 0.00131234\n",
      " 0.00065617 0.00131234 0.00065617 0.00131234 0.00131234 0.00065617\n",
      " 0.00131234 0.00065617 0.00065617 0.00131234 0.00065617 0.00065617\n",
      " 0.00131234 0.00131234 0.00065617 0.00065617 0.00131234 0.00065617\n",
      " 0.00065617 0.00131234 0.00131234 0.00065617 0.00131234 0.00065617\n",
      " 0.00131234 0.00131234 0.00065617 0.00131234 0.00131234 0.00131234\n",
      " 0.00065617 0.00131234 0.00131234 0.00131234 0.00131234 0.00131234\n",
      " 0.00131234 0.00065617 0.00065617 0.00065617 0.00065617 0.00065617\n",
      " 0.00065617 0.00065617 0.00131234 0.00065617 0.00131234 0.00131234\n",
      " 0.00065617 0.00131234 0.00065617 0.00131234 0.00065617 0.00065617\n",
      " 0.00131234 0.00131234 0.00131234 0.00131234 0.00131234 0.00131234\n",
      " 0.00131234 0.00065617 0.00131234 0.00131234 0.00131234 0.00131234\n",
      " 0.00065617 0.00065617 0.00065617 0.00131234 0.00131234 0.00065617\n",
      " 0.00065617 0.00065617 0.00131234 0.00131234 0.00131234 0.00131234\n",
      " 0.00065617 0.00131234 0.00131234 0.00065617 0.00065617 0.00065617\n",
      " 0.00065617 0.00065617 0.00065617 0.00131234 0.00131234 0.00065617\n",
      " 0.00131234 0.00065617 0.00131234 0.00131234 0.00065617 0.00065617\n",
      " 0.00065617 0.00131234 0.00065617 0.00131234 0.00065617 0.00065617\n",
      " 0.00065617 0.00131234 0.00131234 0.00065617 0.00065617 0.00131234\n",
      " 0.00131234 0.00065617 0.00131234 0.00065617 0.00065617 0.00131234\n",
      " 0.00131234 0.00065617 0.00065617 0.00131234 0.00131234 0.00131234\n",
      " 0.00131234 0.00131234 0.00065617 0.00065617 0.00065617 0.00065617\n",
      " 0.00065617 0.00131234 0.00065617 0.00065617 0.00131234 0.00065617\n",
      " 0.00131234 0.00065617 0.00065617 0.00065617 0.00065617 0.00065617\n",
      " 0.00131234 0.00065617 0.00065617 0.00131234 0.00065617 0.00065617\n",
      " 0.00065617 0.00131234 0.00131234 0.00131234 0.00065617 0.00131234\n",
      " 0.00065617 0.00065617 0.00065617 0.00131234 0.00065617 0.00065617\n",
      " 0.00065617 0.00131234 0.00131234 0.00065617 0.00065617 0.00131234\n",
      " 0.00131234 0.00131234 0.00131234 0.00131234 0.00065617 0.00065617\n",
      " 0.00065617 0.00065617 0.00131234 0.00131234 0.00131234 0.00065617\n",
      " 0.00065617 0.00131234 0.00131234 0.00131234 0.00065617 0.00131234\n",
      " 0.00065617 0.00131234 0.00131234 0.00065617 0.00131234 0.00065617\n",
      " 0.00065617 0.00131234 0.00131234 0.00065617 0.00065617 0.00131234\n",
      " 0.00065617 0.00131234 0.00131234 0.00131234 0.00131234 0.00065617\n",
      " 0.00065617 0.00065617 0.00065617 0.00065617 0.00131234 0.00131234\n",
      " 0.00065617 0.00065617 0.00131234 0.00065617 0.00131234 0.00065617\n",
      " 0.00065617 0.00131234 0.00065617 0.00065617 0.00065617 0.00131234\n",
      " 0.00131234 0.00065617 0.00065617 0.00065617 0.00065617 0.00131234\n",
      " 0.00131234 0.00065617 0.00065617 0.00131234 0.00065617 0.00131234\n",
      " 0.00131234 0.00131234 0.00131234 0.00065617 0.00131234 0.00131234\n",
      " 0.00131234 0.00065617 0.00065617 0.00131234 0.00131234 0.00065617\n",
      " 0.00065617 0.00131234 0.00065617 0.00131234 0.00131234 0.00065617\n",
      " 0.00131234 0.00131234 0.00065617 0.00065617 0.00065617 0.00131234\n",
      " 0.00131234 0.00065617 0.00131234 0.00131234 0.00065617 0.00065617\n",
      " 0.00065617 0.00131234 0.00065617 0.00131234 0.00065617 0.00131234\n",
      " 0.00131234 0.00131234 0.00065617 0.00065617 0.00131234 0.00131234\n",
      " 0.00065617 0.00131234 0.00065617 0.00065617 0.00131234 0.00065617\n",
      " 0.00131234 0.00131234 0.00131234 0.00065617 0.00065617 0.00065617\n",
      " 0.00065617 0.00131234 0.00131234 0.00065617 0.00065617 0.00131234\n",
      " 0.00065617 0.00065617 0.00131234 0.00065617 0.00065617 0.00065617\n",
      " 0.00065617 0.00131234 0.00131234 0.00131234 0.00065617 0.00131234\n",
      " 0.00131234 0.00065617 0.00131234 0.00131234 0.00131234 0.00131234\n",
      " 0.00131234 0.00131234 0.00065617 0.00131234 0.00131234 0.00131234\n",
      " 0.00131234 0.00131234 0.00065617 0.00131234 0.00065617 0.00131234\n",
      " 0.00131234 0.00131234 0.00065617 0.00131234 0.00131234 0.00065617\n",
      " 0.00131234 0.00131234 0.00065617 0.00131234 0.00131234 0.00131234\n",
      " 0.00131234 0.00131234 0.00131234 0.00131234 0.00131234 0.00065617\n",
      " 0.00131234 0.00065617 0.00131234 0.00131234 0.00131234 0.00065617\n",
      " 0.00065617 0.00131234 0.00065617 0.00065617 0.00131234 0.00131234\n",
      " 0.00065617 0.00065617 0.00131234 0.00065617 0.00131234 0.00065617\n",
      " 0.00065617 0.00131234 0.00065617 0.00065617 0.00131234 0.00131234\n",
      " 0.00065617 0.00065617 0.00065617 0.00131234 0.00131234 0.00065617\n",
      " 0.00065617 0.00065617 0.00065617 0.00131234 0.00065617 0.00131234\n",
      " 0.00131234 0.00065617 0.00065617 0.00131234 0.00065617 0.00131234\n",
      " 0.00131234 0.00131234 0.00131234 0.00065617 0.00065617 0.00065617\n",
      " 0.00131234 0.00131234 0.00065617 0.00065617 0.00131234 0.00065617\n",
      " 0.00131234 0.00065617 0.00131234 0.00131234 0.00065617 0.00131234\n",
      " 0.00065617 0.00131234 0.00131234 0.00131234 0.00131234 0.00131234\n",
      " 0.00065617 0.00131234 0.00131234 0.00065617 0.00065617 0.00065617\n",
      " 0.00065617 0.00131234 0.00131234 0.00065617]\n"
     ]
    }
   ],
   "source": [
    "classifier = DecisionTreeClassifier(max_depth=1, random_state=1)\n",
    "classifier.fit(X=train_set, y=train_labels)\n",
    "alphas = []\n",
    "classifiers = []\n",
    "for iteration in range(number_of_iterations):\n",
    "    model = train_model(classifier, weights)\n",
    "    weights = set_new_weights(model)\n",
    "    classifiers.append(model)\n",
    "\n",
    "print(weights)\n",
    "\n",
    "\n",
    "validate_x, validate_label = generate_data(1, dimension, labels)"
   ]
  },
  {
   "cell_type": "markdown",
   "metadata": {},
   "source": [
    "Set the validation data set:"
   ]
  },
  {
   "cell_type": "code",
   "execution_count": 104,
   "metadata": {},
   "outputs": [],
   "source": [
    "validate_x, validate_label = generate_data(1, dimension, labels)"
   ]
  },
  {
   "cell_type": "markdown",
   "metadata": {},
   "source": [
    "Fill the prediction code:"
   ]
  },
  {
   "cell_type": "code",
   "execution_count": 100,
   "metadata": {},
   "outputs": [],
   "source": [
    "def get_prediction(x):\n",
    "    votes = np.zeros(len(classifiers))\n",
    "    for idx, model in enumerate(classifiers):\n",
    "        votes[idx] = model.predict(x.reshape(1, -1))[0]\n",
    "    return np.sign(np.sum(votes))"
   ]
  },
  {
   "cell_type": "markdown",
   "metadata": {},
   "source": [
    "Test it:"
   ]
  },
  {
   "cell_type": "code",
   "execution_count": 101,
   "metadata": {},
   "outputs": [
    {
     "ename": "IndexError",
     "evalue": "invalid index to scalar variable.",
     "output_type": "error",
     "traceback": [
      "\u001b[0;31m---------------------------------------------------------------------------\u001b[0m",
      "\u001b[0;31mIndexError\u001b[0m                                Traceback (most recent call last)",
      "Cell \u001b[0;32mIn[101], line 1\u001b[0m\n\u001b[0;32m----> 1\u001b[0m prediction \u001b[38;5;241m=\u001b[39m \u001b[43mget_prediction\u001b[49m\u001b[43m(\u001b[49m\u001b[43mvalidate_x\u001b[49m\u001b[43m)\u001b[49m\u001b[43m[\u001b[49m\u001b[38;5;241;43m0\u001b[39;49m\u001b[43m]\u001b[49m\n\u001b[1;32m      3\u001b[0m \u001b[38;5;28mprint\u001b[39m(prediction)\n",
      "\u001b[0;31mIndexError\u001b[0m: invalid index to scalar variable."
     ]
    }
   ],
   "source": [
    "prediction = get_prediction(validate_x)[0]\n",
    "\n",
    "print(prediction)"
   ]
  },
  {
   "cell_type": "code",
   "execution_count": null,
   "metadata": {},
   "outputs": [],
   "source": []
  }
 ],
 "metadata": {
  "kernelspec": {
   "display_name": "Python 3 (ipykernel)",
   "language": "python",
   "name": "python3"
  },
  "language_info": {
   "codemirror_mode": {
    "name": "ipython",
    "version": 3
   },
   "file_extension": ".py",
   "mimetype": "text/x-python",
   "name": "python",
   "nbconvert_exporter": "python",
   "pygments_lexer": "ipython3",
   "version": "3.10.12"
  }
 },
 "nbformat": 4,
 "nbformat_minor": 4
}
